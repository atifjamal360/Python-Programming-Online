{
 "cells": [
  {
   "cell_type": "code",
   "execution_count": 16,
   "metadata": {},
   "outputs": [
    {
     "name": "stdout",
     "output_type": "stream",
     "text": [
      "Enter Marks Subject1: 50\n",
      "Enter Marks Subject2: 50\n",
      "Enter Marks Subject3: 50\n",
      "Enter Marks Subject4: 50\n",
      "Enter Marks Subject5: 50\n",
      "Percentage =  50.0 %\n",
      "Grade C\n"
     ]
    }
   ],
   "source": [
    "'''Write a program which takes 5 inputs from user for different subject’s\n",
    "marks, total it and generate mark sheet using grades ?'''\n",
    "sub1 = int(input(\"Enter Marks Subject1: \"))\n",
    "sub2 = int(input(\"Enter Marks Subject2: \"))\n",
    "sub3 = int(input(\"Enter Marks Subject3: \"))\n",
    "sub4 = int(input(\"Enter Marks Subject4: \"))\n",
    "sub5 = int(input(\"Enter Marks Subject5: \"))\n",
    "sum = sub1+sub2+sub3+sub4+sub5\n",
    "per = sum/500*100\n",
    "print(\"Percentage = \" , per ,\"%\")\n",
    "\n",
    "if per >= 80 and per <= 100 :\n",
    "    print(\"Grade A+\")\n",
    "elif per >+ 70 and per < 80 :\n",
    "    print(\"Grade A\")\n",
    "elif per >= 60 and per < 70 :\n",
    "    print(\"Grade B\")\n",
    "elif per >= 50 and per < 60 :\n",
    "    print(\"Grade C\")\n",
    "elif per >= 40 and per < 50:\n",
    "    print(\"Grade D\")\n",
    "elif per >=33 and per < 40:\n",
    "    print(\"Grade E\")\n",
    "else :\n",
    "    print(\"Fail\")"
   ]
  },
  {
   "cell_type": "code",
   "execution_count": 17,
   "metadata": {},
   "outputs": [
    {
     "name": "stdout",
     "output_type": "stream",
     "text": [
      "Enter Number :5\n",
      "5 is Odd Number\n"
     ]
    }
   ],
   "source": [
    "'''Write a program which take input from user and identify that the given\n",
    "number is even or odd?'''\n",
    "num = int(input(\"Enter Number :\"))\n",
    "if(num%2==0):\n",
    "    print(num,\"is Even Number\")\n",
    "else:\n",
    "    print(num, \"is Odd Number\")"
   ]
  },
  {
   "cell_type": "code",
   "execution_count": 19,
   "metadata": {},
   "outputs": [
    {
     "name": "stdout",
     "output_type": "stream",
     "text": [
      "Length of List = 10\n"
     ]
    }
   ],
   "source": [
    "'''Write a program which print the length of the list?'''\n",
    "list_1 = [1,2,3,4,5,6,7,8,\"atif\",\"jamal\"]\n",
    "print(\"Length of List =\",len(list_1))    "
   ]
  },
  {
   "cell_type": "code",
   "execution_count": 36,
   "metadata": {},
   "outputs": [
    {
     "name": "stdout",
     "output_type": "stream",
     "text": [
      "Sum of numeric items in a list =  36\n"
     ]
    }
   ],
   "source": [
    "'''Write a Python program to sum all the numeric items in a list?'''\n",
    "list_1 = [1,2,3,4,5,6,7,8,\"Atif\",\"Jamal\"]\n",
    "list_2 = []\n",
    "count = 0\n",
    "for num in list_1:\n",
    "    if(isinstance(num,int)):\n",
    "        list_2.append(num)\n",
    "for num in list_2:\n",
    "    count = count + num\n",
    "print(\"Sum of numeric items in a list = \",count)"
   ]
  },
  {
   "cell_type": "code",
   "execution_count": 37,
   "metadata": {},
   "outputs": [
    {
     "name": "stdout",
     "output_type": "stream",
     "text": [
      "Largest Number in a list = 9\n"
     ]
    }
   ],
   "source": [
    "'''Write a Python program to get the largest number from a numeric list.'''\n",
    "list_1 = [1,2,3,4,5,6,7,8,9,0]\n",
    "print(\"Largest Number in a list =\",max(list_1))"
   ]
  },
  {
   "cell_type": "code",
   "execution_count": 39,
   "metadata": {},
   "outputs": [
    {
     "name": "stdout",
     "output_type": "stream",
     "text": [
      "1\n",
      "1\n",
      "2\n",
      "3\n"
     ]
    }
   ],
   "source": [
    "'''write a program that prints out all the elements of the list that are\n",
    "less than 5.'''\n",
    "a = [1, 1, 2, 3, 5, 8, 13, 21, 34, 55, 89]\n",
    "for num in a:\n",
    "    if num < 5:\n",
    "        print(num)"
   ]
  }
 ],
 "metadata": {
  "kernelspec": {
   "display_name": "Python 3",
   "language": "python",
   "name": "python3"
  },
  "language_info": {
   "codemirror_mode": {
    "name": "ipython",
    "version": 3
   },
   "file_extension": ".py",
   "mimetype": "text/x-python",
   "name": "python",
   "nbconvert_exporter": "python",
   "pygments_lexer": "ipython3",
   "version": "3.7.4"
  }
 },
 "nbformat": 4,
 "nbformat_minor": 2
}
