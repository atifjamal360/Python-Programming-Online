{
 "cells": [
  {
   "cell_type": "code",
   "execution_count": 2,
   "metadata": {},
   "outputs": [
    {
     "name": "stdout",
     "output_type": "stream",
     "text": [
      "The current speed of A8 is 10m/s\n",
      "\n",
      "name: i8\n",
      "mode: 2019\n",
      "color: Black\n",
      "Max.Speed: 250\n",
      "brand: BMW\n",
      "\n",
      "The current speed of Mercedes-Benz S-Class is 0m/s\n",
      "\n",
      "name: Vezel\n",
      "mode: 2018\n",
      "color: Black\n",
      "Max.Speed: 300\n",
      "brand: Honda\n",
      "\n",
      "name: Fortuner\n",
      "mode: 2018\n",
      "color: Silver\n",
      "Max.Speed: 290\n",
      "brand: Suzuki\n",
      "\n"
     ]
    }
   ],
   "source": [
    "class Car:\n",
    "    def __init__(self,name,model,color,speed,brand):\n",
    "        self.name = name\n",
    "        self.model = model\n",
    "        self.color = color\n",
    "        self.speed = speed\n",
    "        self.brand = brand\n",
    "\n",
    "    def accelerate(self):\n",
    "        self.speed = 10\n",
    "    \n",
    "    def stop(self):\n",
    "        self.speed = 0\n",
    "    \n",
    "    def currentSpeed(self):\n",
    "        print(\"The current speed of {} is {}m/s\\n\".format(self.name,self.speed))\n",
    "    \n",
    "    def carDetail(self):\n",
    "        print(\n",
    "            \"name: {}\\nmode: {}\\ncolor: {}\\nMax.Speed: {}\\nbrand: {}\\n\"\n",
    "            .format(self.name,self.model,self.color,self.speed,self.brand)\n",
    "        )\n",
    "\n",
    "c1 = Car(\"A8\",2019,\"Silver\",300,\"Audi\")\n",
    "c2 = Car(\"i8\",2019,\"Black\",250,\"BMW\")\n",
    "c3 = Car(\"Mercedes-Benz S-Class\",2018,\"White\",275,\"Mercedes\")\n",
    "c4 = Car(\"Vezel\",2018,\"Black\",300,\"Honda\")\n",
    "c5 = Car(\"Fortuner\",2018,\"Silver\",290,\"Suzuki\")\n",
    "\n",
    "#Object 1\n",
    "c1.accelerate()\n",
    "c1.currentSpeed()\n",
    "\n",
    "#Object 2\n",
    "c2.carDetail()\n",
    "\n",
    "#Object 3\n",
    "c3.accelerate()\n",
    "c3.stop()\n",
    "c3.currentSpeed()\n",
    "\n",
    "#Object 4\n",
    "c4.carDetail()\n",
    "\n",
    "#Object 5\n",
    "c5.carDetail()\n"
   ]
  },
  {
   "cell_type": "code",
   "execution_count": null,
   "metadata": {},
   "outputs": [],
   "source": []
  }
 ],
 "metadata": {
  "kernelspec": {
   "display_name": "Python 3",
   "language": "python",
   "name": "python3"
  },
  "language_info": {
   "codemirror_mode": {
    "name": "ipython",
    "version": 3
   },
   "file_extension": ".py",
   "mimetype": "text/x-python",
   "name": "python",
   "nbconvert_exporter": "python",
   "pygments_lexer": "ipython3",
   "version": "3.7.4"
  }
 },
 "nbformat": 4,
 "nbformat_minor": 2
}
