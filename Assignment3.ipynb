{
 "cells": [
  {
   "cell_type": "code",
   "execution_count": 1,
   "metadata": {},
   "outputs": [
    {
     "name": "stdout",
     "output_type": "stream",
     "text": [
      "Enter 1st Number: 2\n",
      "Enter Operator: **\n",
      "Enter 2nd Number: 3\n",
      "Power of  2 ** 3 = 8\n"
     ]
    }
   ],
   "source": [
    "#1. Make a calculator using Python with addition , subtraction , multiplication ,division and power.\n",
    "num1 = int(input(\"Enter 1st Number: \"))\n",
    "opr = input(\"Enter Operator: \")\n",
    "num2 = int(input(\"Enter 2nd Number: \"))\n",
    "\n",
    "if opr == '+':\n",
    "    num = num1+num2\n",
    "    print(\"Addition of \",num1,\"+\",num2,\"=\",num)\n",
    "elif opr == '-':\n",
    "    num = num1-num2\n",
    "    print(\"Substraction of \",num1,\"-\",num2,\"=\",num)\n",
    "elif opr == \"*\":\n",
    "    num = num1*num2\n",
    "    print(\"Multiplication of \",num1,\" X \",num2,\"=\",num)\n",
    "elif opr == \"/\":\n",
    "    num = num1/num2\n",
    "    print(\"Division of \",num1,\"/\",num2,\"=\",num)\n",
    "elif opr == '**':\n",
    "    num = num1**num2\n",
    "    print(\"Power of \",num1,\"**\",num2,\"=\",num)\n",
    "else:\n",
    "    print(\"Invalid Operator\")"
   ]
  },
  {
   "cell_type": "code",
   "execution_count": 9,
   "metadata": {},
   "outputs": [
    {
     "name": "stdout",
     "output_type": "stream",
     "text": [
      "Numeric values in list: 1\n",
      "Numeric values in list: 2\n",
      "Numeric values in list: 5\n"
     ]
    }
   ],
   "source": [
    "#2. Write a program to check if there is any numeric value in list using for loop\n",
    "list1 = [1,2,\"Atif\",\"Jamal\",5]\n",
    "for x in list1:\n",
    "    if isinstance(x,int) in list1:\n",
    "        print(\"Numeric values in list:\",x)"
   ]
  },
  {
   "cell_type": "code",
   "execution_count": 3,
   "metadata": {},
   "outputs": [
    {
     "name": "stdout",
     "output_type": "stream",
     "text": [
      "Default Dictionary:\n",
      "{'First Name': 'Atif', 'Last Name': 'Jamal'}\n",
      "After Add a key to a dictionary:\n",
      "{'First Name': 'Atif', 'Last Name': 'Jamal', 'age': 22}\n"
     ]
    }
   ],
   "source": [
    "#3. Write a Python script to add a key to a dictionary\n",
    "dic1 = {\n",
    "    \"First Name\":\"Atif\",\n",
    "    \"Last Name\":\"Jamal\",\n",
    "}\n",
    "\n",
    "print(\"Default Dictionary:\")\n",
    "print(dic1)\n",
    "\n",
    "dic1[\"age\"] = 22 #Add a key to a dictionary\n",
    "print(\"After Add a key to a dictionary:\")\n",
    "print(dic1)"
   ]
  },
  {
   "cell_type": "code",
   "execution_count": 4,
   "metadata": {},
   "outputs": [
    {
     "name": "stdout",
     "output_type": "stream",
     "text": [
      "200\n",
      "500\n",
      "50\n",
      "Sum = 750\n"
     ]
    }
   ],
   "source": [
    "#4. Write a Python program to sum all the numeric items in a dictionary\n",
    "product_price = {\n",
    "    \"doll\": 200,\n",
    "    \"bag\": 500,\n",
    "    \"pen\": 50\n",
    "}\n",
    "\n",
    "sum = 0\n",
    "\n",
    "for i in product_price:\n",
    "    print(product_price[i])\n",
    "    sum += product_price[i]\n",
    "\n",
    "print(\"Sum =\",sum)"
   ]
  },
  {
   "cell_type": "code",
   "execution_count": 12,
   "metadata": {},
   "outputs": [
    {
     "name": "stdout",
     "output_type": "stream",
     "text": [
      "Duplicated values are:\n",
      "[2, 3]\n"
     ]
    }
   ],
   "source": [
    "#5. Write a program to identify duplicate values from list\n",
    "list1 = [1,2,2,3,3,4]\n",
    "size = len(list1)\n",
    "dup = []\n",
    "\n",
    "for i in range(size):\n",
    "    k = i+1\n",
    "    for j in range(k,size):\n",
    "        if list1[i]==list1[j] and list1[i] not in dup:\n",
    "            dup.append(list1[i])\n",
    "print(\"Duplicated values are:\")\n",
    "print(dup)"
   ]
  },
  {
   "cell_type": "code",
   "execution_count": 13,
   "metadata": {},
   "outputs": [
    {
     "name": "stdout",
     "output_type": "stream",
     "text": [
      "Enter key: first name\n",
      "Enter value: atif\n",
      "Key Already Exist\n"
     ]
    }
   ],
   "source": [
    "#6. Write a Python script to check if a given key already exists in a dictionary\n",
    "dic1 = {\n",
    "    \"First Name\":\"Atif\",\n",
    "    \"Last Name\":\"Jamal\",\n",
    "}\n",
    "\n",
    "key1 = input(\"Enter key: \")\n",
    "key1 = key1.title()\n",
    "value = input(\"Enter value: \")\n",
    "\n",
    "if key1 not in dic1.keys():\n",
    "    dic1[key1]=value\n",
    "    print(dic1)\n",
    "else:\n",
    "    print(\"Key Already Exist\")"
   ]
  }
 ],
 "metadata": {
  "kernelspec": {
   "display_name": "Python 3",
   "language": "python",
   "name": "python3"
  },
  "language_info": {
   "codemirror_mode": {
    "name": "ipython",
    "version": 3
   },
   "file_extension": ".py",
   "mimetype": "text/x-python",
   "name": "python",
   "nbconvert_exporter": "python",
   "pygments_lexer": "ipython3",
   "version": "3.7.4"
  }
 },
 "nbformat": 4,
 "nbformat_minor": 2
}
