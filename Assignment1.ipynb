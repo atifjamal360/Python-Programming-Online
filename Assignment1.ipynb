{
 "cells": [
  {
   "cell_type": "code",
   "execution_count": 46,
   "metadata": {},
   "outputs": [
    {
     "name": "stdout",
     "output_type": "stream",
     "text": [
      "Twinkle, twinkle, little star,\n",
      "      How I wonder what you are!\n",
      "\t    Up above the world so high,\n",
      "\t    Like a diamond in the sky.\n",
      "Twinkle, twinkle, little star,\n",
      "      How I wonder what you are\n"
     ]
    }
   ],
   "source": [
    "#Assignment Question 01\n",
    "print(\"Twinkle, twinkle, little star,\")\n",
    "print(\"      How I wonder what you are!\")\n",
    "print(\"\\t    Up above the world so high,\")\n",
    "print(\"\\t    Like a diamond in the sky.\")\n",
    "print(\"Twinkle, twinkle, little star,\")\n",
    "print(\"      How I wonder what you are\")"
   ]
  },
  {
   "cell_type": "code",
   "execution_count": 13,
   "metadata": {},
   "outputs": [
    {
     "name": "stdout",
     "output_type": "stream",
     "text": [
      "Python Version: 3.7.4 (default, Aug  9 2019, 18:34:13) [MSC v.1915 64 bit (AMD64)]\n"
     ]
    }
   ],
   "source": [
    "#Assignment Question 02\n",
    "import sys as system\n",
    "print(\"Python Version:\",system.version)"
   ]
  },
  {
   "cell_type": "code",
   "execution_count": 10,
   "metadata": {},
   "outputs": [
    {
     "name": "stdout",
     "output_type": "stream",
     "text": [
      "Todays date/time: 2019-10-31 01:22:24.821071\n"
     ]
    }
   ],
   "source": [
    "#Assignment Question 03 \n",
    "import datetime\n",
    "print(\"Todays date/time:\",datetime.datetime.now())"
   ]
  },
  {
   "cell_type": "code",
   "execution_count": 18,
   "metadata": {},
   "outputs": [
    {
     "name": "stdout",
     "output_type": "stream",
     "text": [
      "Enter a radius of a circle:\n",
      "3\n",
      "Area of a circle: 28.274333882308138\n"
     ]
    }
   ],
   "source": [
    "#Assignment Question 04\n",
    "import math\n",
    "print(\"Enter a radius of a circle:\")\n",
    "radius = int(input())\n",
    "area = math.pi * (radius)**2\n",
    "print(\"Area of a circle:\", area)\n"
   ]
  },
  {
   "cell_type": "code",
   "execution_count": 19,
   "metadata": {},
   "outputs": [
    {
     "name": "stdout",
     "output_type": "stream",
     "text": [
      "First Name = \n",
      "atif\n",
      "Last Name = \n",
      "jamal\n",
      "Full name =  atif jamal\n",
      "Reverse :  lamaj fita\n"
     ]
    }
   ],
   "source": [
    "#Assignment Question 05\n",
    "print(\"First Name = \")\n",
    "fname = input()\n",
    "print(\"Last Name = \")\n",
    "lname = input()\n",
    "fullname = fname + \" \" + lname\n",
    "print(\"Full name = \",fullname)\n",
    "print(\"Reverse : \",fullname[::-1])"
   ]
  },
  {
   "cell_type": "code",
   "execution_count": 24,
   "metadata": {},
   "outputs": [
    {
     "name": "stdout",
     "output_type": "stream",
     "text": [
      "Enter 1st number = \n",
      "2\n",
      "Enter 2nd number = \n",
      "3\n",
      "Addition of  2  +  3  =  5\n"
     ]
    }
   ],
   "source": [
    "#Assignment Question 06\n",
    "print(\"Enter 1st number = \")\n",
    "fnum = int(input())\n",
    "print(\"Enter 2nd number = \")\n",
    "snum = int(input())\n",
    "print('Addition of ',fnum,' + ',snum,' = ',fnum+snum)"
   ]
  },
  {
   "cell_type": "code",
   "execution_count": null,
   "metadata": {},
   "outputs": [],
   "source": []
  }
 ],
 "metadata": {
  "kernelspec": {
   "display_name": "Python 3",
   "language": "python",
   "name": "python3"
  },
  "language_info": {
   "codemirror_mode": {
    "name": "ipython",
    "version": 3
   },
   "file_extension": ".py",
   "mimetype": "text/x-python",
   "name": "python",
   "nbconvert_exporter": "python",
   "pygments_lexer": "ipython3",
   "version": "3.7.4"
  }
 },
 "nbformat": 4,
 "nbformat_minor": 2
}
