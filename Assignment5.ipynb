{
 "cells": [
  {
   "cell_type": "code",
   "execution_count": 6,
   "metadata": {},
   "outputs": [
    {
     "name": "stdout",
     "output_type": "stream",
     "text": [
      "Enter number to compute factorial\n",
      "3\n",
      "Factorial of 3 is 6.\n"
     ]
    }
   ],
   "source": [
    "def fact(num):\n",
    "    if num == 1:\n",
    "        return num\n",
    "    else:\n",
    "        return num*fact(num-1)\n",
    "num = abs(int(input('Enter number to calculate factorial\\n')))\n",
    "print(\"Factorial of {} is {}.\".format(str(num),str(fact(num))))"
   ]
  },
  {
   "cell_type": "code",
   "execution_count": 9,
   "metadata": {},
   "outputs": [
    {
     "name": "stdout",
     "output_type": "stream",
     "text": [
      "Upper case : 4\n",
      "Lower case : 1\n"
     ]
    }
   ],
   "source": [
    "def check(*text):\n",
    "    countU = 0\n",
    "    countL = 0\n",
    "    for x in text:\n",
    "        if x.isupper():\n",
    "            countU += 1\n",
    "        elif x.islower():\n",
    "            countL += 1\n",
    "    return(countU, countL)\n",
    "\n",
    "result =check('W', 't', 'L', 'R', 'K')\n",
    "print('Upper case : ' + str(result[0]) +'\\nLower case : ' + str(result[1]))"
   ]
  },
  {
   "cell_type": "code",
   "execution_count": 44,
   "metadata": {},
   "outputs": [
    {
     "name": "stdout",
     "output_type": "stream",
     "text": [
      "2 is even.\n",
      "4 is even.\n",
      "None\n"
     ]
    }
   ],
   "source": [
    "num = [1,2,3,4,5]\n",
    "print(check(num))\n",
    "\n",
    "def check(num):\n",
    "    for x in num:\n",
    "        if (x%2 == 0):\n",
    "            print(\"{} is even.\".format(x))"
   ]
  },
  {
   "cell_type": "code",
   "execution_count": 6,
   "metadata": {},
   "outputs": [
    {
     "name": "stdout",
     "output_type": "stream",
     "text": [
      "Enter string to check palindrome: madam\n",
      "madam is palindrome\n"
     ]
    }
   ],
   "source": [
    "def rev(x):\n",
    "    return x[::-1]\n",
    "    \n",
    "def palin(inp):\n",
    "    s = rev(inp)\n",
    "    if s == inp:\n",
    "        return 1\n",
    "    else:\n",
    "        return 0\n",
    "\n",
    "    \n",
    "inp = input(\"Enter string to check palindrome: \")\n",
    "a = palin(inp)\n",
    "if a:\n",
    "    print(\"{} is palindrome\".format(inp))\n",
    "else:\n",
    "    print(\"{} is not palindrome\".format(inp))    "
   ]
  },
  {
   "cell_type": "code",
   "execution_count": 13,
   "metadata": {
    "scrolled": true
   },
   "outputs": [
    {
     "name": "stdout",
     "output_type": "stream",
     "text": [
      "Enter number to check\n",
      "5\n",
      "Number is prime\n"
     ]
    }
   ],
   "source": [
    "def prime(num):\n",
    "    for x in range(2, (num // 2) + 1):\n",
    "        if num % x == 0:\n",
    "            return False\n",
    "    return True\n",
    "y = prime(int(input('Enter number to check\\n')))\n",
    "print('Number is prime') if y else print('Number is composite')"
   ]
  },
  {
   "cell_type": "code",
   "execution_count": 12,
   "metadata": {},
   "outputs": [
    {
     "name": "stdout",
     "output_type": "stream",
     "text": [
      "Customer Buys:\n",
      "bag\n",
      "shirt\n",
      "pent\n",
      "hair oil\n",
      "scandals\n",
      "eye liner\n"
     ]
    }
   ],
   "source": [
    "def print_func(*item):\n",
    "    print(\"Customer Buy:\")\n",
    "    for each in item:\n",
    "        print(each)\n",
    "        \n",
    "print_func('bag', 'shirt', 'pent', 'hair oil', 'scandals', 'eye liner')"
   ]
  }
 ],
 "metadata": {
  "kernelspec": {
   "display_name": "Python 3",
   "language": "python",
   "name": "python3"
  },
  "language_info": {
   "codemirror_mode": {
    "name": "ipython",
    "version": 3
   },
   "file_extension": ".py",
   "mimetype": "text/x-python",
   "name": "python",
   "nbconvert_exporter": "python",
   "pygments_lexer": "ipython3",
   "version": "3.7.4"
  }
 },
 "nbformat": 4,
 "nbformat_minor": 2
}
