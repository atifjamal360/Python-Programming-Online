{
 "cells": [
  {
   "cell_type": "code",
   "execution_count": 21,
   "metadata": {},
   "outputs": [
    {
     "name": "stdout",
     "output_type": "stream",
     "text": [
      "Print dictionary.\n",
      "first_name Muhammad Atif Jamal\n",
      "last_name Jamal Akhtar\n",
      "Age 22\n",
      "city karachi\n",
      "\n",
      "print dictionary after adding qualification key.\n",
      "first_name Muhammad Atif Jamal\n",
      "last_name Jamal Akhtar\n",
      "Age 22\n",
      "city karachi\n",
      "qualification Matriculation\n",
      "\n",
      "Print dictionary after updating qualificaion value.\n",
      "first_name Muhammad Atif Jamal\n",
      "last_name Jamal Akhtar\n",
      "Age 22\n",
      "city karachi\n",
      "qualification high academic level\n",
      "\n",
      "Print dictionary after deleting qualification key.\n",
      "first_name Muhammad Atif Jamal\n",
      "last_name Jamal Akhtar\n",
      "Age 22\n",
      "city karachi\n"
     ]
    }
   ],
   "source": [
    "'''Use a dictionary to store information about a person you know. Store their first name, last name, age,\n",
    "and the city in which they live. You should have keys such as first_name, last_name, age, and city. Print\n",
    "each piece of information stored in your dictionary. Add a new key value pair about qualification then\n",
    "update the qualification value to high academic level then delete it.'''\n",
    "\n",
    "info = {\n",
    "    \"first_name\":\"Muhammad Atif Jamal\",\n",
    "    \"last_name\":\"Jamal Akhtar\",\n",
    "    \"Age\":22,\n",
    "    \"city\":\"karachi\"\n",
    "}\n",
    "print(\"Print dictionary.\")\n",
    "for key,value in info.items():\n",
    "    print(key,value)\n",
    "\n",
    "print(\"\\nprint dictionary after adding qualification key.\")\n",
    "info[\"qualification\"] = \"Matriculation\"\n",
    "for key,value in info.items():\n",
    "    print(key,value)\n",
    "\n",
    "print(\"\\nPrint dictionary after updating qualificaion value.\")\n",
    "info[\"qualification\"] = \"high academic level\"\n",
    "for key,value in info.items():\n",
    "    print(key,value)\n",
    "\n",
    "print(\"\\nPrint dictionary after deleting qualification key.\")\n",
    "info.pop(\"qualification\")\n",
    "for key,value in info.items():\n",
    "    print(key,value)"
   ]
  },
  {
   "cell_type": "code",
   "execution_count": 1,
   "metadata": {},
   "outputs": [
    {
     "name": "stdout",
     "output_type": "stream",
     "text": [
      "karachi {'country': 'Pakistan', 'population': '15 Million', 'fact': 'Karachi is among the cheapest city to live in.'}\n",
      "jeddah {'country': 'Saudia Arabia', 'population': '4.1 Million', 'fact': 'It is the largest city in Makkah Province'}\n",
      "sharjah {'country': 'Dubai', 'population': '1.4 Million', 'fact': 'Sharjah is situated on the shore of Arabian Gulf'}\n"
     ]
    }
   ],
   "source": [
    "'''Make a dictionary called cities. Use the names of three cities as keys in your dictionary. Create a\n",
    "dictionary of information about each city and include the country that the city is in, its approximate\n",
    "population, and one fact about that city. The keys for each city’s dictionary should be something like\n",
    "country, population, and fact. Print the name of each city and all of the information you have stored\n",
    "about it.'''\n",
    "\n",
    "cities = {\n",
    "    \"karachi\":{\n",
    "        \"country\":\"Pakistan\",\n",
    "        \"population\":\"15 Million\",\n",
    "        \"fact\":\"Karachi is among the cheapest city to live in.\"\n",
    "    },\n",
    "    \"jeddah\":{\n",
    "        \"country\":\"Saudia Arabia\",\n",
    "        \"population\":\"4.1 Million\",\n",
    "        \"fact\":\"It is the largest city in Makkah Province\"\n",
    "    },\n",
    "    \"sharjah\":{\n",
    "        \"country\":\"Dubai\",\n",
    "        \"population\":\"1.4 Million\",\n",
    "        \"fact\":\"Sharjah is situated on the shore of Arabian Gulf\"\n",
    "    }\n",
    "}\n",
    "for x in cities:\n",
    "    print(x,cities[x])"
   ]
  },
  {
   "cell_type": "code",
   "execution_count": 30,
   "metadata": {},
   "outputs": [
    {
     "name": "stdout",
     "output_type": "stream",
     "text": [
      "Enter your Age?\n",
      " to stop type quit then enter: 1\n",
      "the ticket is free.\n",
      "Enter your Age?\n",
      " to stop type quit then enter: 4\n",
      "the ticket is $10.\n",
      "Enter your Age?\n",
      " to stop type quit then enter: 13\n",
      "the ticket is $15\n",
      "Enter your Age?\n",
      " to stop type quit then enter: quit\n"
     ]
    }
   ],
   "source": [
    "'''A movie theater charges different ticket prices depending on a person’s age. If a person is under the age\n",
    "of 3, the ticket is free; if they are between 3 and 12, the ticket is $10; and if they are over age 12, the\n",
    "ticket is $15. Write a loop in which you ask users their age, and then tell them the cost of their movie\n",
    "ticket.'''\n",
    "\n",
    "while True:\n",
    "    age = input(\"Enter your Age?\\n to stop type quit then enter: \")\n",
    "    if age == \"quit\" or age == \"Quit\":\n",
    "        break\n",
    "    age = int(age)\n",
    "    \n",
    "    if age<3:\n",
    "        print(\"the ticket is free.\")\n",
    "    elif age<13:\n",
    "        print(\"the ticket is $10.\")\n",
    "    else:\n",
    "        print(\"the ticket is $15\")"
   ]
  },
  {
   "cell_type": "code",
   "execution_count": 32,
   "metadata": {},
   "outputs": [
    {
     "name": "stdout",
     "output_type": "stream",
     "text": [
      "One of my favorite books is Alice in the Adventure\n"
     ]
    }
   ],
   "source": [
    "'''Write a function called favorite_book() that accepts one parameter, title. The function should print a\n",
    "message, such as One of my favorite books is Alice in Wonderland. Call the function, making sure to\n",
    "include a book title as an argument in the function call.'''\n",
    "\n",
    "def favorite_book(title):\n",
    "    print(\"One of my favorite books is\",title)\n",
    "\n",
    "title = \"Alice in the Adventure\"\n",
    "favorite_book(title)"
   ]
  },
  {
   "cell_type": "code",
   "execution_count": 52,
   "metadata": {},
   "outputs": [
    {
     "name": "stdout",
     "output_type": "stream",
     "text": [
      "I have a random number between 1 to 30\n",
      "You have to guess my number\n",
      "You have 3 chances: \n",
      "What number do you guess? 20\n",
      "Number is greater then the hidden number. Try again.\n",
      "\n",
      "What number do you guess? 15\n",
      "Number is greater then the hidden number. Try again.\n",
      "\n",
      "What number do you guess? 13\n",
      "Number is greater then the hidden number. Try again.\n",
      "\n",
      "Sorry you have wasted your 3 chances to guess the hidden number.\n"
     ]
    }
   ],
   "source": [
    "'''Guess the number game\n",
    "Write a program which randomly generate a number between 1 to 30 and ask the user in input field to\n",
    "guess the correct number. Give three chances to user guess the number and also give hint to user if\n",
    "hidden number is greater or smaller than the number he given to input field.'''\n",
    "\n",
    "import random\n",
    "\n",
    "print(\"I have a random number between 1 to 30\\nYou have to guess my number\\nYou have 3 chances: \")\n",
    "\n",
    "ran_Number = random.randrange(1,30)\n",
    "\n",
    "for x in range(3):\n",
    "    number = int(input(\"What number do you guess? \"))\n",
    "    if number > ran_Number:\n",
    "        print(\"Number is greater then the hidden number. Try again.\\n\")\n",
    "    elif number < ran_Number:\n",
    "        print(\"Number is smaller then the hidden number. Try again.\\n\")\n",
    "    elif number == ran_Number:\n",
    "       break\n",
    "if number == ran_Number:\n",
    "    print(\"Congratulation you guess the corrent number.\")\n",
    "else:\n",
    "    print(\"Sorry you have wasted your 3 chances to guess the hidden number.\")"
   ]
  }
 ],
 "metadata": {
  "kernelspec": {
   "display_name": "Python 3",
   "language": "python",
   "name": "python3"
  },
  "language_info": {
   "codemirror_mode": {
    "name": "ipython",
    "version": 3
   },
   "file_extension": ".py",
   "mimetype": "text/x-python",
   "name": "python",
   "nbconvert_exporter": "python",
   "pygments_lexer": "ipython3",
   "version": "3.7.4"
  }
 },
 "nbformat": 4,
 "nbformat_minor": 2
}
